{
 "cells": [
  {
   "cell_type": "code",
   "execution_count": 1,
   "metadata": {
    "deletable": false,
    "editable": false,
    "tags": []
   },
   "outputs": [],
   "source": [
    "# Initialize Otter\n",
    "import otter\n",
    "grader = otter.Notebook(\"hw4.ipynb\")"
   ]
  },
  {
   "cell_type": "markdown",
   "metadata": {},
   "source": [
    "# CPSC 330 - Applied Machine Learning \n",
    "\n",
    "## Homework 4: Logistic regression, hyperparameter optimization \n",
    "### Associated lectures: [Lectures 7, 8](https://github.com/UBC-CS/cpsc330-2023s/tree/main/lectures) \n",
    "\n",
    "**Due date: See the [Calendar](https://calendar.google.com/calendar/u/0/embed?src=7a04205ae91b85e82ebc74daddbf2933c6b6723b81abb966f0e69c66a996c43b@group.calendar.google.com&ctz=America/Vancouver&pli=1).**"
   ]
  },
  {
   "cell_type": "markdown",
   "metadata": {},
   "source": [
    "## Imports "
   ]
  },
  {
   "cell_type": "code",
   "execution_count": 2,
   "metadata": {
    "tags": []
   },
   "outputs": [],
   "source": [
    "from hashlib import sha1\n",
    "import matplotlib.pyplot as plt\n",
    "import numpy as np\n",
    "import pandas as pd\n",
    "\n",
    "plt.rcParams[\"font.size\"] = 16\n",
    "\n",
    "from sklearn.dummy import DummyClassifier\n",
    "from sklearn.feature_extraction.text import CountVectorizer\n",
    "from sklearn.linear_model import LogisticRegression\n",
    "from sklearn.model_selection import (\n",
    "    GridSearchCV,\n",
    "    cross_val_score,\n",
    "    cross_validate,\n",
    "    train_test_split,\n",
    ")\n",
    "from sklearn.pipeline import Pipeline, make_pipeline\n",
    "from sklearn.tree import DecisionTreeClassifier"
   ]
  },
  {
   "cell_type": "markdown",
   "metadata": {},
   "source": [
    "## Instructions\n",
    "<hr>\n",
    "rubric={points:4}\n",
    "\n",
    "Follow the [homework submission instructions](https://github.com/UBC-CS/cpsc330-2023s/blob/main/docs/homework_instructions.md). \n",
    "\n",
    "**You may work with a partner on this homework and submit your assignment as a group.** Below are some instructions on working as a group.  \n",
    "- The maximum group size is 2. \n",
    "- Use group work as an opportunity to collaborate and learn new things from each other. \n",
    "- Be respectful to each other and make sure you understand all the concepts in the assignment well. \n",
    "- It's your responsibility to make sure that the assignment is submitted by one of the group members before the deadline. \n",
    "- If the .ipynb file is too big and doesn't render on Gradescope, also upload a pdf or html in addition to the .ipynb.\n",
    "- You can find the instructions on how to do group submission on Gradescope [here](https://help.gradescope.com/article/m5qz2xsnjy-student-add-group-members).\n",
    "- Note that we are using the autograder for some of the coding questions so that you can get instant feedback. When you submit your homework on Gradescope, it will run your code on an AWS server. It's possible that all your tests pass locally but some test cases fail when you submit your work on Gradescope. Wait for your submission to run there and examine the autograder results.  If it fails, you are either submitting a wrong file or doing something unexpected somewhere in the code. If you cannot figure it out, make use of office hours and tutorials. It's important that you start early on the assignments so that we help you with such issues. Also, remember that passing the tests is not the only goal. Make sure you are understanding what exactly you are doing in each question and why you are doing it. \n",
    "\n",
    "_Note: The assignments will get gradually more open-ended as we progress through the course. In many cases, there won't be a single correct solution. Sometimes you will have to make your own choices and your own decisions (for example, on what parameter values to use when they are not explicitly provided in the instructions). Use your own judgment in such cases and justify your choices, if necessary._"
   ]
  },
  {
   "cell_type": "markdown",
   "metadata": {},
   "source": [
    "<br><br><br><br>"
   ]
  },
  {
   "cell_type": "markdown",
   "metadata": {},
   "source": [
    "## Exercise 1: implementing `DummyClassifier`\n",
    "<hr>\n",
    "rubric={autograde:10}\n",
    "\n",
    "In this course (unlike CPSC 340) you will generally **not** be asked to implement machine learning algorihtms (like logistic regression) from scratch. However, this exercise is an exception: you will implement the simplest possible classifier, `DummyClassifier`.\n",
    " \n",
    "As a reminder, `DummyClassifier` is meant as a baseline and is generally a simple \"model\" you could \"fit\" to a dataset. All it does is predict the most popular class in the training set. So if there are more 0s than 1s it predicts 0 every time, and if there are more 1s than 0s it predicts 1 every time. For `predict_proba` it looks at the frequencies in the training set, so if you have 30% 0's 70% 1's it predicts `[0.3 0.7]` every time. Thus, `fit` only looks at `y` (not `X`).\n",
    "\n",
    "Below you will find starter code for a class called `MyDummyClassifier`, which has methods `fit()`, `predict()`, `predict_proba()` and `score()`. Your task is to fill in those four functions. To get your started, I have given you a `return` statement in each case that returns the correct data type: `fit` returns nothing, `predict` returns an array whose size is the number of examples, `predict_proba` returns an array whose size is the number of examples x 2, and `score` returns a number.\n",
    "\n",
    "The next code block has some tests you can use to assess whether your code is working. \n",
    "\n",
    "I suggest starting with `fit` and `predict`, and making sure those are working before moving on to `predict_proba`. For `predict_proba`, you should return the frequency of each class in the training data, which is the behaviour of `DummyClassifier(strategy='prior')`. Your `score` function should call your `predict` function. Again, you can compare with `DummyClassifier` using the code below.\n",
    "\n",
    "To simplify this question, you can assume **binary classification**, and furthermore that these classes are **encoded as 0 and 1**. In other words, you can assume that `y` contains only 0s and 1s. The real `DummyClassifier` works when you have more than two classes, and also works if the target values are encoded differently, for example as \"cat\", \"dog\", \"mouse\", etc."
   ]
  },
  {
   "cell_type": "markdown",
   "metadata": {},
   "source": [
    "<div class=\"alert alert-warning\">\n",
    "\n",
    "Solution_1\n",
    "    \n",
    "</div>\n",
    "\n",
    "_Points:_ 10"
   ]
  },
  {
   "cell_type": "code",
   "execution_count": 3,
   "metadata": {
    "scrolled": true,
    "tags": []
   },
   "outputs": [],
   "source": [
    "class MyDummyClassifier:\n",
    "    \"\"\"\n",
    "    A baseline classifier that predicts the most common class.\n",
    "    The predicted probabilities come from the relative frequencies\n",
    "    of the classes in the training data.\n",
    "\n",
    "    This implementation only works when y only contains 0s and 1s.\n",
    "    \"\"\"\n",
    "    def __init__(setlf):     \n",
    "        most_common = 0 #initialize class variable\n",
    "        percent_zero = 1\n",
    "        percent_one = 0\n",
    "\n",
    "    def fit(self, X, y):\n",
    "        ...\n",
    "        self.most_common = np.bincount(y).argmax() #change value of most_common depending on y\n",
    "        self.percent_zero = np.bincount(y)[0] / y.shape[0]\n",
    "        self.percent_one = 1 - self.percent_zero\n",
    "        \n",
    "        return None  \n",
    "\n",
    "    def predict(self, X):\n",
    "        if (self.most_common == 0):\n",
    "            return np.zeros(X.shape[0])  # Returns an array of 0s with the same size as the number of examples\n",
    "        else:\n",
    "            return np.ones(X.shape[0])  # Returns an array of 1s \n",
    "        \n",
    "    def predict_proba(self, X):\n",
    "        predict_proba_output = np.zeros((X.shape[0], 2))\n",
    "        \n",
    "        for i in range(X.shape[0]):\n",
    "            predict_proba_output[i] = [self.percent_zero, self.percent_one]\n",
    "        \n",
    "        return predict_proba_output\n",
    "        #return np.zeros((X.shape[0], 2)) # Returns an array with the same size as 2x the number of examples\n",
    "\n",
    "    def score(self, X, y):\n",
    "        i = 0\n",
    "        count = 0\n",
    "        dummy_prediction = self.predict(X_train_dummy)\n",
    "        for i in range(y.shape[0]):\n",
    "            if dummy_prediction[i] == y[i]:\n",
    "                count += 1\n",
    "        \n",
    "        return count/y.shape[0]  # Returns number \n",
    "    \n",
    "    #MyDummyClassifier and DummyClassifier return the same score every time, but I can't get it to pass the autograder\n",
    "    "
   ]
  },
  {
   "cell_type": "code",
   "execution_count": 4,
   "metadata": {
    "tags": []
   },
   "outputs": [
    {
     "data": {
      "text/plain": [
       "0.5714285714285714"
      ]
     },
     "execution_count": 4,
     "metadata": {},
     "output_type": "execute_result"
    }
   ],
   "source": [
    "from sklearn.dummy import DummyClassifier\n",
    "n_train = 21\n",
    "d = 4\n",
    "X_train_dummy = np.random.randn(n_train, d) \n",
    "y_train_dummy = np.random.randint(2, size=n_train)\n",
    "my_dc = MyDummyClassifier()\n",
    "my_dc.fit(X_train_dummy, y_train_dummy)\n",
    "my_dc.predict(X_train_dummy)\n",
    "my_dc.predict_proba(X_train_dummy)\n",
    "my_dc.score(X_train_dummy, y_train_dummy)\n",
    "\n",
    "\n",
    "#print(my_dc.predict(X_train_dummy))\n",
    "#print(my_dc.predict_proba(X_train_dummy))\n",
    "#print(my_dc.score(X_train_dummy, y_train_dummy))"
   ]
  },
  {
   "cell_type": "code",
   "execution_count": 5,
   "metadata": {
    "tags": []
   },
   "outputs": [
    {
     "data": {
      "text/plain": [
       "0.5714285714285714"
      ]
     },
     "execution_count": 5,
     "metadata": {},
     "output_type": "execute_result"
    }
   ],
   "source": [
    "sk_dc = DummyClassifier(strategy=\"prior\") # sklearn\n",
    "sk_dc.fit(X_train_dummy, y_train_dummy)\n",
    "sk_dc.predict(X_train_dummy)\n",
    "sk_dc.predict_proba(X_train_dummy)\n",
    "sk_dc.score(X_train_dummy, y_train_dummy)"
   ]
  },
  {
   "cell_type": "code",
   "execution_count": 6,
   "metadata": {
    "deletable": false,
    "editable": false,
    "tags": []
   },
   "outputs": [
    {
     "data": {
      "text/html": [
       "<p><strong style='color: red;'><pre style='display: inline;'>q1</pre> results:</strong></p><p><strong><pre style='display: inline;'>q1 - 1</pre> message:</strong> Good job!</p><p><strong><pre style='display: inline;'>q1 - 1</pre> result:</strong></p><pre>    ✅ Test case passed</pre><p><strong><pre style='display: inline;'>q1 - 2</pre> message:</strong> Good job!</p><p><strong><pre style='display: inline;'>q1 - 2</pre> result:</strong></p><pre>    ✅ Test case passed</pre><p><strong><pre style='display: inline;'>q1 - 3</pre> result:</strong></p><pre>    ❌ Test case failed\n",
       "    Trying:\n",
       "        def test_it(MyDummyClassifier):\n",
       "            import matplotlib.pyplot as plt\n",
       "            import numpy as np\n",
       "            import pandas as pd\n",
       "            from sklearn.dummy import DummyClassifier\n",
       "            n_train = 101\n",
       "            n_valid = 21\n",
       "            d = 5\n",
       "            for _ in range(100):\n",
       "                X_train_dummy = np.random.randn(n_train, d) \n",
       "                X_valid_dummy = np.random.randn(n_valid, d)\n",
       "                y_train_dummy = np.random.randint(2, size=n_train)\n",
       "                y_valid_dummy = np.random.randint(2, size=n_valid)\n",
       "                my_dc = MyDummyClassifier()\n",
       "                sk_dc = DummyClassifier(strategy=\"prior\")\n",
       "                _ = my_dc.fit(X_train_dummy, y_train_dummy)\n",
       "                _ = sk_dc.fit(X_train_dummy, y_train_dummy)\n",
       "                assert np.isclose(my_dc.score(X_train_dummy, y_train_dummy), sk_dc.score(X_train_dummy, y_train_dummy)), \"the score is wrong on a random training set\"\n",
       "                assert np.isclose(my_dc.score(X_valid_dummy, y_valid_dummy), sk_dc.score(X_valid_dummy, y_valid_dummy)), \"the score is wrong on a random validation set\"\n",
       "    Expecting nothing\n",
       "    ok\n",
       "    Trying:\n",
       "        test_it(MyDummyClassifier)\n",
       "    Expecting nothing\n",
       "    **********************************************************************\n",
       "    Line 23, in q1 2\n",
       "    Failed example:\n",
       "        test_it(MyDummyClassifier)\n",
       "    Exception raised:\n",
       "        Traceback (most recent call last):\n",
       "          File \"C:\\Users\\karat\\miniconda3\\envs\\cpsc330\\lib\\doctest.py\", line 1350, in __run\n",
       "            exec(compile(example.source, filename, \"single\",\n",
       "          File \"<doctest q1 2[1]>\", line 1, in <module>\n",
       "            test_it(MyDummyClassifier)\n",
       "          File \"<doctest q1 2[0]>\", line 18, in test_it\n",
       "            assert np.isclose(my_dc.score(X_train_dummy, y_train_dummy), sk_dc.score(X_train_dummy, y_train_dummy)), \"the score is wrong on a random training set\"\n",
       "          File \"C:\\Users\\Public\\Documents\\Wondershare\\CreatorTemp\\ipykernel_19308\\147508545.py\", line 42, in score\n",
       "            if dummy_prediction[i] == y[i]:\n",
       "        IndexError: index 21 is out of bounds for axis 0 with size 21\n",
       "</pre>"
      ],
      "text/plain": [
       "q1 results:\n",
       "    q1 - 1 message: Good job!\n",
       "\n",
       "    q1 - 1 result:\n",
       "        ✅ Test case passed\n",
       "\n",
       "    q1 - 2 message: Good job!\n",
       "\n",
       "    q1 - 2 result:\n",
       "        ✅ Test case passed\n",
       "\n",
       "    q1 - 3 result:\n",
       "        ❌ Test case failed\n",
       "        Trying:\n",
       "            def test_it(MyDummyClassifier):\n",
       "                import matplotlib.pyplot as plt\n",
       "                import numpy as np\n",
       "                import pandas as pd\n",
       "                from sklearn.dummy import DummyClassifier\n",
       "                n_train = 101\n",
       "                n_valid = 21\n",
       "                d = 5\n",
       "                for _ in range(100):\n",
       "                    X_train_dummy = np.random.randn(n_train, d) \n",
       "                    X_valid_dummy = np.random.randn(n_valid, d)\n",
       "                    y_train_dummy = np.random.randint(2, size=n_train)\n",
       "                    y_valid_dummy = np.random.randint(2, size=n_valid)\n",
       "                    my_dc = MyDummyClassifier()\n",
       "                    sk_dc = DummyClassifier(strategy=\"prior\")\n",
       "                    _ = my_dc.fit(X_train_dummy, y_train_dummy)\n",
       "                    _ = sk_dc.fit(X_train_dummy, y_train_dummy)\n",
       "                    assert np.isclose(my_dc.score(X_train_dummy, y_train_dummy), sk_dc.score(X_train_dummy, y_train_dummy)), \"the score is wrong on a random training set\"\n",
       "                    assert np.isclose(my_dc.score(X_valid_dummy, y_valid_dummy), sk_dc.score(X_valid_dummy, y_valid_dummy)), \"the score is wrong on a random validation set\"\n",
       "        Expecting nothing\n",
       "        ok\n",
       "        Trying:\n",
       "            test_it(MyDummyClassifier)\n",
       "        Expecting nothing\n",
       "        **********************************************************************\n",
       "        Line 23, in q1 2\n",
       "        Failed example:\n",
       "            test_it(MyDummyClassifier)\n",
       "        Exception raised:\n",
       "            Traceback (most recent call last):\n",
       "              File \"C:\\Users\\karat\\miniconda3\\envs\\cpsc330\\lib\\doctest.py\", line 1350, in __run\n",
       "                exec(compile(example.source, filename, \"single\",\n",
       "              File \"<doctest q1 2[1]>\", line 1, in <module>\n",
       "                test_it(MyDummyClassifier)\n",
       "              File \"<doctest q1 2[0]>\", line 18, in test_it\n",
       "                assert np.isclose(my_dc.score(X_train_dummy, y_train_dummy), sk_dc.score(X_train_dummy, y_train_dummy)), \"the score is wrong on a random training set\"\n",
       "              File \"C:\\Users\\Public\\Documents\\Wondershare\\CreatorTemp\\ipykernel_19308\\147508545.py\", line 42, in score\n",
       "                if dummy_prediction[i] == y[i]:\n",
       "            IndexError: index 21 is out of bounds for axis 0 with size 21"
      ]
     },
     "execution_count": 6,
     "metadata": {},
     "output_type": "execute_result"
    }
   ],
   "source": [
    "grader.check(\"q1\")"
   ]
  },
  {
   "cell_type": "markdown",
   "metadata": {},
   "source": [
    "<br><br><br><br>"
   ]
  },
  {
   "cell_type": "markdown",
   "metadata": {
    "nbgrader": {
     "grade": false,
     "grade_id": "cell-8e3cc53df86a7e14",
     "locked": true,
     "schema_version": 3,
     "solution": false,
     "task": false
    },
    "toc-hr-collapsed": true
   },
   "source": [
    "## Exercise 2: Trump Tweets\n",
    "<hr>\n",
    "\n",
    "For the rest of this assignment we'll be working with a [dataset of Donald Trump's tweets](https://www.kaggle.com/austinreese/trump-tweets) as of June 2020. You should start by downloading the dataset. Unzip it and move the file `realdonaldtrump.csv` under the data directory in this folder. As usual, please do not submit the dataset when you submit the assignment. "
   ]
  },
  {
   "cell_type": "code",
   "execution_count": 7,
   "metadata": {
    "tags": []
   },
   "outputs": [
    {
     "data": {
      "text/html": [
       "<div>\n",
       "<style scoped>\n",
       "    .dataframe tbody tr th:only-of-type {\n",
       "        vertical-align: middle;\n",
       "    }\n",
       "\n",
       "    .dataframe tbody tr th {\n",
       "        vertical-align: top;\n",
       "    }\n",
       "\n",
       "    .dataframe thead th {\n",
       "        text-align: right;\n",
       "    }\n",
       "</style>\n",
       "<table border=\"1\" class=\"dataframe\">\n",
       "  <thead>\n",
       "    <tr style=\"text-align: right;\">\n",
       "      <th></th>\n",
       "      <th>link</th>\n",
       "      <th>content</th>\n",
       "      <th>date</th>\n",
       "      <th>retweets</th>\n",
       "      <th>favorites</th>\n",
       "      <th>mentions</th>\n",
       "      <th>hashtags</th>\n",
       "    </tr>\n",
       "    <tr>\n",
       "      <th>id</th>\n",
       "      <th></th>\n",
       "      <th></th>\n",
       "      <th></th>\n",
       "      <th></th>\n",
       "      <th></th>\n",
       "      <th></th>\n",
       "      <th></th>\n",
       "    </tr>\n",
       "  </thead>\n",
       "  <tbody>\n",
       "    <tr>\n",
       "      <th>1698308935</th>\n",
       "      <td>https://twitter.com/realDonaldTrump/status/169...</td>\n",
       "      <td>Be sure to tune in and watch Donald Trump on L...</td>\n",
       "      <td>2009-05-04 13:54:25</td>\n",
       "      <td>510</td>\n",
       "      <td>917</td>\n",
       "      <td>NaN</td>\n",
       "      <td>NaN</td>\n",
       "    </tr>\n",
       "    <tr>\n",
       "      <th>1701461182</th>\n",
       "      <td>https://twitter.com/realDonaldTrump/status/170...</td>\n",
       "      <td>Donald Trump will be appearing on The View tom...</td>\n",
       "      <td>2009-05-04 20:00:10</td>\n",
       "      <td>34</td>\n",
       "      <td>267</td>\n",
       "      <td>NaN</td>\n",
       "      <td>NaN</td>\n",
       "    </tr>\n",
       "    <tr>\n",
       "      <th>1737479987</th>\n",
       "      <td>https://twitter.com/realDonaldTrump/status/173...</td>\n",
       "      <td>Donald Trump reads Top Ten Financial Tips on L...</td>\n",
       "      <td>2009-05-08 08:38:08</td>\n",
       "      <td>13</td>\n",
       "      <td>19</td>\n",
       "      <td>NaN</td>\n",
       "      <td>NaN</td>\n",
       "    </tr>\n",
       "    <tr>\n",
       "      <th>1741160716</th>\n",
       "      <td>https://twitter.com/realDonaldTrump/status/174...</td>\n",
       "      <td>New Blog Post: Celebrity Apprentice Finale and...</td>\n",
       "      <td>2009-05-08 15:40:15</td>\n",
       "      <td>11</td>\n",
       "      <td>26</td>\n",
       "      <td>NaN</td>\n",
       "      <td>NaN</td>\n",
       "    </tr>\n",
       "    <tr>\n",
       "      <th>1773561338</th>\n",
       "      <td>https://twitter.com/realDonaldTrump/status/177...</td>\n",
       "      <td>\"My persona will never be that of a wallflower...</td>\n",
       "      <td>2009-05-12 09:07:28</td>\n",
       "      <td>1375</td>\n",
       "      <td>1945</td>\n",
       "      <td>NaN</td>\n",
       "      <td>NaN</td>\n",
       "    </tr>\n",
       "  </tbody>\n",
       "</table>\n",
       "</div>"
      ],
      "text/plain": [
       "                                                         link  \\\n",
       "id                                                              \n",
       "1698308935  https://twitter.com/realDonaldTrump/status/169...   \n",
       "1701461182  https://twitter.com/realDonaldTrump/status/170...   \n",
       "1737479987  https://twitter.com/realDonaldTrump/status/173...   \n",
       "1741160716  https://twitter.com/realDonaldTrump/status/174...   \n",
       "1773561338  https://twitter.com/realDonaldTrump/status/177...   \n",
       "\n",
       "                                                      content  \\\n",
       "id                                                              \n",
       "1698308935  Be sure to tune in and watch Donald Trump on L...   \n",
       "1701461182  Donald Trump will be appearing on The View tom...   \n",
       "1737479987  Donald Trump reads Top Ten Financial Tips on L...   \n",
       "1741160716  New Blog Post: Celebrity Apprentice Finale and...   \n",
       "1773561338  \"My persona will never be that of a wallflower...   \n",
       "\n",
       "                           date  retweets  favorites mentions hashtags  \n",
       "id                                                                      \n",
       "1698308935  2009-05-04 13:54:25       510        917      NaN      NaN  \n",
       "1701461182  2009-05-04 20:00:10        34        267      NaN      NaN  \n",
       "1737479987  2009-05-08 08:38:08        13         19      NaN      NaN  \n",
       "1741160716  2009-05-08 15:40:15        11         26      NaN      NaN  \n",
       "1773561338  2009-05-12 09:07:28      1375       1945      NaN      NaN  "
      ]
     },
     "execution_count": 7,
     "metadata": {},
     "output_type": "execute_result"
    }
   ],
   "source": [
    "tweets_df = pd.read_csv(\"data/realdonaldtrump.csv\", index_col=0)\n",
    "tweets_df.head()"
   ]
  },
  {
   "cell_type": "code",
   "execution_count": 8,
   "metadata": {
    "tags": []
   },
   "outputs": [
    {
     "data": {
      "text/plain": [
       "(43352, 7)"
      ]
     },
     "execution_count": 8,
     "metadata": {},
     "output_type": "execute_result"
    }
   ],
   "source": [
    "tweets_df.shape"
   ]
  },
  {
   "cell_type": "markdown",
   "metadata": {},
   "source": [
    "We will be trying to predict whether a tweet will go \"viral\", defined as having more than 10,000 retweets:"
   ]
  },
  {
   "cell_type": "code",
   "execution_count": 9,
   "metadata": {
    "tags": []
   },
   "outputs": [],
   "source": [
    "y = tweets_df[\"retweets\"] > 10_000"
   ]
  },
  {
   "cell_type": "markdown",
   "metadata": {},
   "source": [
    "To make predictions, we'll be using only the content (text) of the tweet. "
   ]
  },
  {
   "cell_type": "code",
   "execution_count": 10,
   "metadata": {
    "tags": []
   },
   "outputs": [],
   "source": [
    "X = tweets_df[\"content\"]"
   ]
  },
  {
   "cell_type": "markdown",
   "metadata": {},
   "source": [
    "For the purpose of this assignment, you can ignore all the other columns in the original dataset."
   ]
  },
  {
   "cell_type": "markdown",
   "metadata": {},
   "source": [
    "<br><br>"
   ]
  },
  {
   "cell_type": "markdown",
   "metadata": {},
   "source": [
    "<br><br>"
   ]
  },
  {
   "cell_type": "markdown",
   "metadata": {},
   "source": [
    "<!-- BEGIN QUESTION -->\n",
    "\n",
    "### 2.1 Ordering the steps\n",
    "rubric={points:6}\n",
    "\n",
    "Let's start by building a model using `CountVectorizer` and `LogisticRegression`. The code required to do this has been provided below, but in the wrong order. \n",
    "\n",
    "**Your tasks:**\n",
    "1. Rearrange the lines of code to correctly fit the model and compute the cross-validation score. \n",
    "2. Add a short comment above each step to describe what the code is doing."
   ]
  },
  {
   "cell_type": "markdown",
   "metadata": {},
   "source": [
    "<div class=\"alert alert-warning\">\n",
    "\n",
    "Solution_2.1\n",
    "    \n",
    "</div>\n",
    "\n",
    "_Points:_ 6"
   ]
  },
  {
   "cell_type": "code",
   "execution_count": 11,
   "metadata": {
    "tags": [
     "raises-exception"
    ]
   },
   "outputs": [
    {
     "data": {
      "text/plain": [
       "fit_time       0.889751\n",
       "score_time     0.112929\n",
       "test_score     0.895098\n",
       "train_score    0.976644\n",
       "dtype: float64"
      ]
     },
     "execution_count": 11,
     "metadata": {},
     "output_type": "execute_result"
    }
   ],
   "source": [
    "# Split the dataframe into test and train data (60% test, 40% train)\n",
    "X_train, X_test, y_train, y_test = train_test_split(X, y, test_size=0.6, random_state=123)\n",
    "\n",
    "\n",
    "# Store the number of instances of each word in order of appearance, excluding stop words in english\n",
    "countvec = CountVectorizer(stop_words=\"english\")\n",
    "\n",
    "\n",
    "# Implement logistic regression model with 1000 max iteration and shuffled data\n",
    "lr = LogisticRegression(max_iter=1000, random_state=123)\n",
    "\n",
    "\n",
    "# Create a pipeline with the 1st step being countvec and 2nd step being lr from earlier \n",
    "pipe = make_pipeline(countvec, lr)\n",
    "\n",
    "\n",
    "# Find the cross validation scores using the logistic regression model and format it as pandas dataframe\n",
    "cross_val_results = pd.DataFrame(\n",
    "    cross_validate(pipe, X_train, y_train, return_train_score=True)\n",
    ")\n",
    "\n",
    "\n",
    "# calculate the average cross validation scores\n",
    "cross_val_results.mean()\n",
    "\n",
    "\n",
    "\n",
    "\n",
    "\n"
   ]
  },
  {
   "cell_type": "code",
   "execution_count": 12,
   "metadata": {
    "tags": []
   },
   "outputs": [
    {
     "data": {
      "text/plain": [
       "Ellipsis"
      ]
     },
     "execution_count": 12,
     "metadata": {},
     "output_type": "execute_result"
    }
   ],
   "source": [
    "..."
   ]
  },
  {
   "cell_type": "markdown",
   "metadata": {},
   "source": [
    "<!-- END QUESTION -->\n",
    "\n",
    "<br><br>"
   ]
  },
  {
   "cell_type": "markdown",
   "metadata": {},
   "source": [
    "### 2.2 Baseline\n",
    "rubric={autograde:2}\n",
    "\n",
    "**Your tasks:**\n",
    "\n",
    "1. Run 5-fold cross-validation with `DummyClassifier` on this dataset. Store the mean cross-validation score in a variable called `dummy_cv_score` given below.\n",
    "\n",
    "> You should be able to use `MyDummyClassifier` above. But sklearn will likely complain if you try to pass it to `cross_val_score` or `cross_validate`. "
   ]
  },
  {
   "cell_type": "markdown",
   "metadata": {},
   "source": [
    "<div class=\"alert alert-warning\">\n",
    "\n",
    "Solution_2.2\n",
    "    \n",
    "</div>\n",
    "\n",
    "_Points:_ 2"
   ]
  },
  {
   "cell_type": "code",
   "execution_count": 13,
   "metadata": {
    "tags": []
   },
   "outputs": [
    {
     "name": "stdout",
     "output_type": "stream",
     "text": [
      "0.7423875432525952\n"
     ]
    },
    {
     "data": {
      "text/plain": [
       "Ellipsis"
      ]
     },
     "execution_count": 13,
     "metadata": {},
     "output_type": "execute_result"
    }
   ],
   "source": [
    "dummy = DummyClassifier()\n",
    "dummy_scores = cross_validate(dummy, X_train, y_train, cv = 5, return_train_score=True)\n",
    "dummy_cv_score = pd.DataFrame(dummy_scores)[\"test_score\"].mean()\n",
    "print(dummy_cv_score)\n",
    "\n",
    "..."
   ]
  },
  {
   "cell_type": "code",
   "execution_count": 14,
   "metadata": {
    "deletable": false,
    "editable": false,
    "tags": []
   },
   "outputs": [
    {
     "data": {
      "text/html": [
       "<p><strong><pre style='display: inline;'>q2.2</pre></strong> passed! 🎉</p>"
      ],
      "text/plain": [
       "q2.2 results: All test cases passed!"
      ]
     },
     "execution_count": 14,
     "metadata": {},
     "output_type": "execute_result"
    }
   ],
   "source": [
    "grader.check(\"q2.2\")"
   ]
  },
  {
   "cell_type": "markdown",
   "metadata": {},
   "source": [
    "<br><br>"
   ]
  },
  {
   "cell_type": "markdown",
   "metadata": {
    "tags": []
   },
   "source": [
    "<!-- BEGIN QUESTION -->\n",
    "\n",
    "### 2.3 Discussion\n",
    "rubric={points:4}\n",
    "\n",
    "**Your tasks:**\n",
    "\n",
    "1. Compare the `DummyClassifier` score to what you got from logistic regression above. Does logistic regression seem to be doing anything useful?\n",
    "2. Above we averaged the scores from the 5 folds of cross-validation of logistic regression. Print out the 5 individual scores. Reminder: `sklearn` calls them `\"test_score\"` but they are really (cross-)validation scores. \n",
    "3. Are the 5 scores close to each other or spread far apart? (This is a bit subjective, answer to the best of your ability.)\n",
    "4. How does the size of this dataset (number of rows) compare to [the cities dataset](https://github.com/UBC-CS/cpsc330-2023s/blob/main/lectures/data/canada_usa_cities.csv) we have been using in class? How does this relate to the different sub-scores from the 5 folds?"
   ]
  },
  {
   "cell_type": "markdown",
   "metadata": {},
   "source": [
    "<div class=\"alert alert-warning\">\n",
    "\n",
    "Solution_2.3\n",
    "    \n",
    "</div>\n",
    "\n",
    "_Points:_ 4"
   ]
  },
  {
   "cell_type": "markdown",
   "metadata": {},
   "source": [
    "_Type your answer here, replacing this text._"
   ]
  },
  {
   "cell_type": "code",
   "execution_count": 15,
   "metadata": {
    "tags": []
   },
   "outputs": [
    {
     "name": "stdout",
     "output_type": "stream",
     "text": [
      "Q1. Yes, the cross-validation score is more accurate using logistic regression (0.895 with logistic regression compared to 0.742 with dummyclassifier) \n"
     ]
    }
   ],
   "source": [
    "print(\"Q1. Yes, the cross-validation score is more accurate using logistic regression \\\n",
    "(0.895 with logistic regression compared to 0.742 with dummyclassifier) \")\n"
   ]
  },
  {
   "cell_type": "code",
   "execution_count": 16,
   "metadata": {
    "tags": []
   },
   "outputs": [
    {
     "name": "stdout",
     "output_type": "stream",
     "text": [
      "Q2.\n"
     ]
    },
    {
     "data": {
      "text/plain": [
       "0    0.742215\n",
       "1    0.742215\n",
       "2    0.742503\n",
       "3    0.742503\n",
       "4    0.742503\n",
       "Name: test_score, dtype: float64"
      ]
     },
     "metadata": {},
     "output_type": "display_data"
    }
   ],
   "source": [
    "print(\"Q2.\")\n",
    "display(pd.DataFrame(dummy_scores)[\"test_score\"])"
   ]
  },
  {
   "cell_type": "code",
   "execution_count": 17,
   "metadata": {
    "tags": []
   },
   "outputs": [
    {
     "name": "stdout",
     "output_type": "stream",
     "text": [
      "Q3. The scores are all close to each other, with accuracy around 0.74\n",
      "Q4.\n",
      "The size for this dataset is a lot bigger than the one used in class\n",
      "43352  number of rows compared to 210\n"
     ]
    }
   ],
   "source": [
    "print(\"Q3. The scores are all close to each other, with accuracy around 0.74\")\n",
    "print(\"Q4.\")\n",
    "print(\"The size for this dataset is a lot bigger than the one used in class\")\n",
    "print(tweets_df.shape[0], \" number of rows compared to 210\")\n"
   ]
  },
  {
   "cell_type": "markdown",
   "metadata": {},
   "source": [
    "<!-- END QUESTION -->\n",
    "\n",
    "<br><br>"
   ]
  },
  {
   "cell_type": "markdown",
   "metadata": {
    "nbgrader": {
     "grade": false,
     "grade_id": "cell-ba1f8ea22638cf75",
     "locked": true,
     "schema_version": 3,
     "solution": false,
     "task": false
    }
   },
   "source": [
    "### 2.4 Probability scores\n",
    "rubric={autograde:4}\n",
    "\n",
    "Here we train a logistic regression classifier on the entire training set: \n",
    "\n",
    "> Note: this is relying on the `pipe` variable from 2.1 - you'll need to redefine it if you overwrote that variable in between."
   ]
  },
  {
   "cell_type": "code",
   "execution_count": 18,
   "metadata": {
    "tags": []
   },
   "outputs": [],
   "source": [
    "pipe.fit(X_train, y_train);"
   ]
  },
  {
   "cell_type": "markdown",
   "metadata": {},
   "source": [
    "**Your tasks:**\n",
    "\n",
    "1. Using this model, find the tweet in the **test set** with the highest predicted probability of being viral. Store the tweet and the associated probability in the variables `tweet` and `prob`, respectively. \n",
    "\n",
    "> Reminder: you are free to reuse/adapt code from lecture. Please add in a small attribution, e.g. \"From Lecture 7\"."
   ]
  },
  {
   "cell_type": "markdown",
   "metadata": {},
   "source": [
    "<div class=\"alert alert-warning\">\n",
    "\n",
    "Solution_2.4\n",
    "    \n",
    "</div>\n",
    "\n",
    "_Points:_ 4"
   ]
  },
  {
   "cell_type": "code",
   "execution_count": 19,
   "metadata": {
    "tags": []
   },
   "outputs": [
    {
     "name": "stdout",
     "output_type": "stream",
     "text": [
      "There was No Collusion with Russia (except by the Democrats). When will this very expensive Witch Hunt Hoax ever end? So bad for our Country. Is the Special Counsel/Justice Department leaking my lawyers letters to the Fake News Media? Should be looking at Dems corruption instead?\n",
      "0.9999999842218135\n"
     ]
    },
    {
     "data": {
      "text/plain": [
       "Ellipsis"
      ]
     },
     "execution_count": 19,
     "metadata": {},
     "output_type": "execute_result"
    }
   ],
   "source": [
    "# From lecture 7, [100]\n",
    "\n",
    "all_probs = pipe.predict_proba(X_test)[:,1]\n",
    "#print(all_probs)\n",
    "\n",
    "best_index = np.argmax(all_probs)\n",
    "tweet = X_test.iloc[best_index]\n",
    "prob = all_probs[best_index]\n",
    "\n",
    "print(tweet)\n",
    "print(prob)\n",
    "\n",
    "..."
   ]
  },
  {
   "cell_type": "code",
   "execution_count": 20,
   "metadata": {
    "deletable": false,
    "editable": false,
    "tags": []
   },
   "outputs": [
    {
     "data": {
      "text/html": [
       "<p><strong><pre style='display: inline;'>q2.4</pre></strong> passed! ✨</p>"
      ],
      "text/plain": [
       "q2.4 results: All test cases passed!"
      ]
     },
     "execution_count": 20,
     "metadata": {},
     "output_type": "execute_result"
    }
   ],
   "source": [
    "grader.check(\"q2.4\")"
   ]
  },
  {
   "cell_type": "markdown",
   "metadata": {},
   "source": [
    "<br><br>"
   ]
  },
  {
   "cell_type": "markdown",
   "metadata": {
    "nbgrader": {
     "grade": false,
     "grade_id": "cell-f910e9d1d6d09182",
     "locked": true,
     "schema_version": 3,
     "solution": false,
     "task": false
    }
   },
   "source": [
    "### 2.5 Coefficients\n",
    "rubric={autograde:4}\n",
    "\n",
    "We can extract the `CountVectorizer` and `LogisticRegression` objects from the `Pipeline` object as follows:"
   ]
  },
  {
   "cell_type": "code",
   "execution_count": 21,
   "metadata": {
    "tags": []
   },
   "outputs": [],
   "source": [
    "vec_from_pipe = pipe.named_steps[\"countvectorizer\"]\n",
    "lr_from_pipe = pipe.named_steps[\"logisticregression\"]"
   ]
  },
  {
   "cell_type": "markdown",
   "metadata": {},
   "source": [
    "**Your tasks:**\n",
    "\n",
    "Using these extracted components above, get the five words with the highest coefficients and 5 words with smallest coefficients. Store them as lists in `top_5_words` and `bottom_5_words` variables, respectively. "
   ]
  },
  {
   "cell_type": "markdown",
   "metadata": {},
   "source": [
    "<div class=\"alert alert-warning\">\n",
    "\n",
    "Solution_2.5\n",
    "    \n",
    "</div>\n",
    "\n",
    "_Points:_ 4"
   ]
  },
  {
   "cell_type": "code",
   "execution_count": 22,
   "metadata": {
    "tags": []
   },
   "outputs": [
    {
     "data": {
      "text/plain": [
       "Index(['democrats', 'transcripts', 'harassment', 'coronavirus', 'impeachment'], dtype='object')"
      ]
     },
     "metadata": {},
     "output_type": "display_data"
    },
    {
     "data": {
      "text/plain": [
       "Index(['realdonaldtrump', 'barackobama', 'donaldtrump', 'trump2016pic',\n",
       "       'thanks'],\n",
       "      dtype='object')"
      ]
     },
     "metadata": {},
     "output_type": "display_data"
    },
    {
     "data": {
      "text/plain": [
       "Ellipsis"
      ]
     },
     "execution_count": 22,
     "metadata": {},
     "output_type": "execute_result"
    }
   ],
   "source": [
    "# From lecture 7, [83]\n",
    "\n",
    "feature_names = np.array(vec_from_pipe.get_feature_names_out())\n",
    "coeffs = lr_from_pipe.coef_.flatten()\n",
    "coeff_df = pd.DataFrame(coeffs, index=feature_names, columns=[\"Coefficient\"])\n",
    "\n",
    "# highest to lowest coeff\n",
    "coeff_df = coeff_df.sort_values(by=[\"Coefficient\"], ascending=False)\n",
    "top_5_words = coeff_df.head(5).index\n",
    "\n",
    "# lowest to highest coeff\n",
    "coeff_df = coeff_df.sort_values(by=[\"Coefficient\"], ascending=True)\n",
    "bottom_5_words = coeff_df.head(5).index\n",
    "\n",
    "display(top_5_words)\n",
    "display(bottom_5_words)\n",
    "\n",
    "\n",
    "..."
   ]
  },
  {
   "cell_type": "code",
   "execution_count": 23,
   "metadata": {
    "deletable": false,
    "editable": false
   },
   "outputs": [
    {
     "data": {
      "text/html": [
       "<p><strong><pre style='display: inline;'>q2.5</pre></strong> passed! 🎉</p>"
      ],
      "text/plain": [
       "q2.5 results: All test cases passed!"
      ]
     },
     "execution_count": 23,
     "metadata": {},
     "output_type": "execute_result"
    }
   ],
   "source": [
    "grader.check(\"q2.5\")"
   ]
  },
  {
   "cell_type": "markdown",
   "metadata": {},
   "source": [
    "<br><br>"
   ]
  },
  {
   "cell_type": "markdown",
   "metadata": {},
   "source": [
    "### 2.6 Running a cross-validation fold without sklearn tools \n",
    "rubric={autograde:8}\n",
    "\n",
    "Sklearn provides a lot of useful tools like `make_pipeline` and `cross_validate`, which are awesome. But with these fancy tools it's also easy to lose track of what is actually happening under the hood. \n",
    "\n",
    "**Your tasks:**\n",
    "\n",
    "1. Compute logistic regression's validation score on the first fold, that is, train on 80% and validate on 20% of the training data (`X_train`) without using sklearn `Pipeline` or `cross_validate` or `cross_val_score`. Store the score of the fold in a variable called `fold_score`. Recall that `cross_validation` in `sklearn` does not shuffle the data by default.    \n",
    "\n",
    "You should start with the following `CountVectorizer` and `LogisticRegression` objects, as well as `X_train` and `y_train` (which you should further split with `train_test_split` and `shuffle=False`):"
   ]
  },
  {
   "cell_type": "code",
   "execution_count": 46,
   "metadata": {},
   "outputs": [],
   "source": [
    "countvec = CountVectorizer(stop_words=\"english\")\n",
    "lr = LogisticRegression(max_iter=1000, random_state=123)"
   ]
  },
  {
   "cell_type": "markdown",
   "metadata": {},
   "source": [
    "> Meta-comment: you might be wondering why we're going into \"implementation\" here if this course is about _applied_ ML. In CPSC 340, we would go all the way down into `LogisticRegression` and understand how `fit` works, line by line. Here we're not going into that at all, but I still think this type of question (and Exercise 1) is a useful middle ground. I do want you to know what is going on in `Pipeline` and in `cross_validate` even if we don't cover the details of `fit`. To get into logistic regression's `fit` requires a bunch of math; here, we're keeping it more conceptual and avoiding all those prerequisites."
   ]
  },
  {
   "cell_type": "markdown",
   "metadata": {},
   "source": [
    "<div class=\"alert alert-warning\">\n",
    "\n",
    "Solution_2.6\n",
    "    \n",
    "</div>\n",
    "\n",
    "_Points:_ 8"
   ]
  },
  {
   "cell_type": "code",
   "execution_count": 58,
   "metadata": {
    "tags": []
   },
   "outputs": [
    {
     "name": "stdout",
     "output_type": "stream",
     "text": [
      "0.5506861953638565\n"
     ]
    },
    {
     "data": {
      "text/plain": [
       "Ellipsis"
      ]
     },
     "execution_count": 58,
     "metadata": {},
     "output_type": "execute_result"
    }
   ],
   "source": [
    "training_df = pd.merge(X_train, y_train, left_index=True, right_index=True)\n",
    "\n",
    "X_training_train, X_testing_train, y_training_train, y_testing_train = train_test_split(X, y, test_size=0.2, random_state = 123, shuffle=False)\n",
    "\n",
    "\n",
    "X_train_formatted = countvec.fit_transform(X_training_train)\n",
    "X_test_formatted = countvec.transform(X_testing_train)\n",
    "\n",
    "lr.fit(X_train_formatted, y_training_train)\n",
    "prediction_lr = lr.predict(X_test_formatted)\n",
    "\n",
    "fold_score = lr.score(X_test_formatted, y_testing_train)\n",
    "\n",
    "\n",
    "print(fold_score)\n",
    "\n",
    "\n",
    "..."
   ]
  },
  {
   "cell_type": "code",
   "execution_count": 55,
   "metadata": {
    "deletable": false,
    "editable": false
   },
   "outputs": [
    {
     "data": {
      "text/html": [
       "<p><strong style='color: red;'><pre style='display: inline;'>q2.6</pre> results:</strong></p><p><strong><pre style='display: inline;'>q2.6 - 1</pre> result:</strong></p><pre>    ❌ Test case failed\n",
       "    Trying:\n",
       "        assert not fold_score is None, \"Are you using the correct variable?\"\n",
       "    Expecting nothing\n",
       "    ok\n",
       "    Trying:\n",
       "        assert sha1(str(np.round(fold_score, 4)).encode('utf8')).hexdigest() == 'd267e2ea9b801d9f7ac454714a7fe6320075c255', \"The fold_score doesn't look right.\"\n",
       "    Expecting nothing\n",
       "    **********************************************************************\n",
       "    Line 2, in q2.6 0\n",
       "    Failed example:\n",
       "        assert sha1(str(np.round(fold_score, 4)).encode('utf8')).hexdigest() == 'd267e2ea9b801d9f7ac454714a7fe6320075c255', \"The fold_score doesn't look right.\"\n",
       "    Exception raised:\n",
       "        Traceback (most recent call last):\n",
       "          File \"C:\\Users\\karat\\miniconda3\\envs\\cpsc330\\lib\\doctest.py\", line 1350, in __run\n",
       "            exec(compile(example.source, filename, \"single\",\n",
       "          File \"<doctest q2.6 0[1]>\", line 1, in <module>\n",
       "            assert sha1(str(np.round(fold_score, 4)).encode('utf8')).hexdigest() == 'd267e2ea9b801d9f7ac454714a7fe6320075c255', \"The fold_score doesn't look right.\"\n",
       "        AssertionError: The fold_score doesn't look right.\n",
       "</pre>"
      ],
      "text/plain": [
       "q2.6 results:\n",
       "    q2.6 - 1 result:\n",
       "        ❌ Test case failed\n",
       "        Trying:\n",
       "            assert not fold_score is None, \"Are you using the correct variable?\"\n",
       "        Expecting nothing\n",
       "        ok\n",
       "        Trying:\n",
       "            assert sha1(str(np.round(fold_score, 4)).encode('utf8')).hexdigest() == 'd267e2ea9b801d9f7ac454714a7fe6320075c255', \"The fold_score doesn't look right.\"\n",
       "        Expecting nothing\n",
       "        **********************************************************************\n",
       "        Line 2, in q2.6 0\n",
       "        Failed example:\n",
       "            assert sha1(str(np.round(fold_score, 4)).encode('utf8')).hexdigest() == 'd267e2ea9b801d9f7ac454714a7fe6320075c255', \"The fold_score doesn't look right.\"\n",
       "        Exception raised:\n",
       "            Traceback (most recent call last):\n",
       "              File \"C:\\Users\\karat\\miniconda3\\envs\\cpsc330\\lib\\doctest.py\", line 1350, in __run\n",
       "                exec(compile(example.source, filename, \"single\",\n",
       "              File \"<doctest q2.6 0[1]>\", line 1, in <module>\n",
       "                assert sha1(str(np.round(fold_score, 4)).encode('utf8')).hexdigest() == 'd267e2ea9b801d9f7ac454714a7fe6320075c255', \"The fold_score doesn't look right.\"\n",
       "            AssertionError: The fold_score doesn't look right."
      ]
     },
     "execution_count": 55,
     "metadata": {},
     "output_type": "execute_result"
    }
   ],
   "source": [
    "grader.check(\"q2.6\")"
   ]
  },
  {
   "cell_type": "markdown",
   "metadata": {},
   "source": [
    "<br><br><br><br>"
   ]
  },
  {
   "cell_type": "markdown",
   "metadata": {
    "toc-hr-collapsed": true
   },
   "source": [
    "## Exercise 3: Hyperparameter optimization\n",
    "<hr>"
   ]
  },
  {
   "cell_type": "markdown",
   "metadata": {
    "nbgrader": {
     "grade": false,
     "grade_id": "cell-5e9e6fdea209d872",
     "locked": true,
     "schema_version": 3,
     "solution": false,
     "task": false
    }
   },
   "source": [
    "<!-- BEGIN QUESTION -->\n",
    "\n",
    "### 3.1 Optimizing `max_features` of `CountVectorizer`\n",
    "rubric={points:2}\n",
    "\n",
    "The following code varies the `max_features` hyperparameter of `CountVectorizer` and makes a plot (with the x-axis on a log scale) that shows train/cross-validation scores vs. `max_features`. It also prints the results. \n",
    "\n",
    "**Your tasks:**\n",
    "- Based on the plot/output, what value of `max_features` seems best? Briefly explain.\n",
    "\n",
    "> The code may take a minute or two to run. You can uncomment the `print` statement if you want to see it show the progress."
   ]
  },
  {
   "cell_type": "code",
   "execution_count": null,
   "metadata": {},
   "outputs": [],
   "source": [
    "train_scores = []\n",
    "cv_scores = []\n",
    "\n",
    "max_features = [10, 100, 1000, 10_000, 100_000]\n",
    "\n",
    "for mf in max_features:\n",
    "    #     print(mf)    \n",
    "    pipe = make_pipeline(CountVectorizer(stop_words=\"english\", max_features=mf), LogisticRegression(max_iter=1000))\n",
    "    cv_results = cross_validate(pipe, X_train, y_train, return_train_score=True)\n",
    "    train_scores.append(cv_results[\"train_score\"].mean())\n",
    "    cv_scores.append(cv_results[\"test_score\"].mean())\n",
    "\n",
    "plt.semilogx(max_features, train_scores, label=\"train\")\n",
    "plt.semilogx(max_features, cv_scores, label=\"valid\")\n",
    "plt.legend()\n",
    "plt.xlabel(\"max_features\")\n",
    "plt.ylabel(\"accuracy\");"
   ]
  },
  {
   "cell_type": "code",
   "execution_count": null,
   "metadata": {},
   "outputs": [],
   "source": [
    "pd.DataFrame({\"max_features\": max_features, \"train\": train_scores, \"cv\": cv_scores})"
   ]
  },
  {
   "cell_type": "markdown",
   "metadata": {},
   "source": [
    "<div class=\"alert alert-warning\">\n",
    "\n",
    "Solution_3.1\n",
    "    \n",
    "</div>\n",
    "\n",
    "_Points:_ 2"
   ]
  },
  {
   "cell_type": "markdown",
   "metadata": {},
   "source": [
    "_Type your answer here, replacing this text._"
   ]
  },
  {
   "cell_type": "code",
   "execution_count": null,
   "metadata": {
    "tags": []
   },
   "outputs": [],
   "source": [
    "..."
   ]
  },
  {
   "cell_type": "markdown",
   "metadata": {},
   "source": [
    "<!-- END QUESTION -->\n",
    "\n",
    "<br><br>"
   ]
  },
  {
   "cell_type": "markdown",
   "metadata": {},
   "source": [
    "<!-- BEGIN QUESTION -->\n",
    "\n",
    "### 3.2 Optimizing `C` of `LogisticRegression`\n",
    "rubric={points:2}\n",
    "\n",
    "The following code varies the `C` hyperparameter of `LogisticRegression` and makes a plot (with the x-axis on a log scale) that shows train/cross-validation scores vs. `C`. \n",
    "\n",
    "**Your tasks:**\n",
    "\n",
    "- Based on the plot, what value of `C` seems best? Briefly explain. \n",
    "\n",
    "> The code may take a minute or two to run. You can uncomment the `print` statement if you want to see it show the progress."
   ]
  },
  {
   "cell_type": "code",
   "execution_count": null,
   "metadata": {},
   "outputs": [],
   "source": [
    "train_scores = []\n",
    "cv_scores = []\n",
    "\n",
    "C_vals = 10.0 ** np.arange(-1.5, 2, 0.5)\n",
    "\n",
    "for C in C_vals:\n",
    "    #     print(C)\n",
    "    pipe = make_pipeline(CountVectorizer(stop_words=\"english\"), LogisticRegression(max_iter=1000, C=C))    \n",
    "    cv_results = cross_validate(pipe, X_train, y_train, return_train_score=True)\n",
    "\n",
    "    train_scores.append(cv_results[\"train_score\"].mean())\n",
    "    cv_scores.append(cv_results[\"test_score\"].mean())\n",
    "\n",
    "plt.semilogx(C_vals, train_scores, label=\"train\")\n",
    "plt.semilogx(C_vals, cv_scores, label=\"valid\")\n",
    "plt.legend()\n",
    "plt.xlabel(\"C\")\n",
    "plt.ylabel(\"accuracy\");"
   ]
  },
  {
   "cell_type": "code",
   "execution_count": null,
   "metadata": {},
   "outputs": [],
   "source": [
    "pd.DataFrame({\"C\": C_vals, \"train\": train_scores, \"cv\": cv_scores})"
   ]
  },
  {
   "cell_type": "markdown",
   "metadata": {},
   "source": [
    "<div class=\"alert alert-warning\">\n",
    "\n",
    "Solution_3.2\n",
    "    \n",
    "</div>\n",
    "\n",
    "_Points:_ 2"
   ]
  },
  {
   "cell_type": "markdown",
   "metadata": {},
   "source": [
    "_Type your answer here, replacing this text._"
   ]
  },
  {
   "cell_type": "markdown",
   "metadata": {},
   "source": [
    "<!-- END QUESTION -->\n",
    "\n",
    "<br><br>"
   ]
  },
  {
   "cell_type": "markdown",
   "metadata": {},
   "source": [
    "### 3.3 Hyperparameter optimization \n",
    "rubric={autograde:10}\n",
    "\n",
    "Start with the pipeline `pipe` below.\n",
    "\n",
    "**Your tasks:**\n",
    "- Create a `GridSearchCV` object named `grid_search` to jointly optimize `max_features` of `CountVectorizer` and `C` of `LogisticRegression` across all the combinations of values we tried above. \n",
    "- What are the best values of `max_features` and `C_vals` according to your grid search? Store them in variables `best_max_features` and `best_C`, respectively.  \n",
    "- Store the best score returned by the grid search in a variable called `best_score`. \n",
    "\n",
    "> The code might be a bit slow here. Setting `n_jobs=-1` should speed it up if you have a multi-core processor."
   ]
  },
  {
   "cell_type": "code",
   "execution_count": null,
   "metadata": {},
   "outputs": [],
   "source": [
    "pipe = make_pipeline(CountVectorizer(stop_words=\"english\"), LogisticRegression(max_iter=1000, random_state=123))"
   ]
  },
  {
   "cell_type": "markdown",
   "metadata": {},
   "source": [
    "<div class=\"alert alert-warning\">\n",
    "\n",
    "Solution_3.3\n",
    "    \n",
    "</div>\n",
    "\n",
    "_Points:_ 8"
   ]
  },
  {
   "cell_type": "code",
   "execution_count": null,
   "metadata": {
    "slideshow": {
     "slide_type": "slide"
    },
    "tags": []
   },
   "outputs": [],
   "source": [
    "grid_search = None \n",
    "best_max_features = None\n",
    "best_C = None\n",
    "best_score = None\n",
    "\n",
    "..."
   ]
  },
  {
   "cell_type": "code",
   "execution_count": null,
   "metadata": {
    "deletable": false,
    "editable": false
   },
   "outputs": [],
   "source": [
    "grader.check(\"q3.3\")"
   ]
  },
  {
   "cell_type": "markdown",
   "metadata": {},
   "source": [
    "<br><br>"
   ]
  },
  {
   "cell_type": "markdown",
   "metadata": {},
   "source": [
    "<!-- BEGIN QUESTION -->\n",
    "\n",
    "### 3.4 Discussion \n",
    "rubric={points:4}\n",
    "\n",
    "- Do the best values of hyperparameters found by Grid Search agree with what you found in 3.1 and 3.2? \n",
    "- Generally speaking, _should_ these values agree with what you found in parts  3.1 and 3.2? Why or why not? "
   ]
  },
  {
   "cell_type": "markdown",
   "metadata": {},
   "source": [
    "<div class=\"alert alert-warning\">\n",
    "\n",
    "Solution_3.4\n",
    "    \n",
    "</div>\n",
    "\n",
    "_Points:_ 4"
   ]
  },
  {
   "cell_type": "markdown",
   "metadata": {},
   "source": [
    "_Type your answer here, replacing this text._"
   ]
  },
  {
   "cell_type": "markdown",
   "metadata": {},
   "source": [
    "<!-- END QUESTION -->\n",
    "\n",
    "<br><br>"
   ]
  },
  {
   "cell_type": "markdown",
   "metadata": {},
   "source": [
    "### 3.5 Test score\n",
    "rubric={autograde:2}\n",
    "\n",
    "**Your tasks:**\n",
    "- Evaluate your final model on the test set. Store the test accuracy in the variable called `test_score`."
   ]
  },
  {
   "cell_type": "markdown",
   "metadata": {},
   "source": [
    "<div class=\"alert alert-warning\">\n",
    "\n",
    "Solution_3.5\n",
    "    \n",
    "</div>\n",
    "\n",
    "_Points:_ 2"
   ]
  },
  {
   "cell_type": "code",
   "execution_count": null,
   "metadata": {
    "tags": []
   },
   "outputs": [],
   "source": [
    "test_score = None\n",
    "\n",
    "..."
   ]
  },
  {
   "cell_type": "code",
   "execution_count": null,
   "metadata": {
    "deletable": false,
    "editable": false
   },
   "outputs": [],
   "source": [
    "grader.check(\"q3.5\")"
   ]
  },
  {
   "cell_type": "markdown",
   "metadata": {},
   "source": [
    "<br><br>"
   ]
  },
  {
   "cell_type": "markdown",
   "metadata": {},
   "source": [
    "<!-- BEGIN QUESTION -->\n",
    "\n",
    "### 3.6 Discussion\n",
    "rubric={points:2}\n",
    "\n",
    "- How does your test accuracy compare to your validation accuracy? \n",
    "- If they are different: do you think this is because you \"overfitted on the validation set\", or simply random luck?"
   ]
  },
  {
   "cell_type": "markdown",
   "metadata": {},
   "source": [
    "<div class=\"alert alert-warning\">\n",
    "\n",
    "Solution_3.6\n",
    "    \n",
    "</div>\n",
    "\n",
    "_Points:_ 2"
   ]
  },
  {
   "cell_type": "markdown",
   "metadata": {},
   "source": [
    "_Type your answer here, replacing this text._"
   ]
  },
  {
   "cell_type": "markdown",
   "metadata": {},
   "source": [
    "<!-- END QUESTION -->\n",
    "\n",
    "<br><br><br><br>"
   ]
  },
  {
   "cell_type": "markdown",
   "metadata": {},
   "source": [
    "<!-- BEGIN QUESTION -->\n",
    "\n",
    "## Exercise 4: Very short answer questions\n",
    "<hr>\n",
    "rubric={points:6}\n",
    "\n",
    "Each question is worth 2 points. Max 2 sentences per answer."
   ]
  },
  {
   "cell_type": "markdown",
   "metadata": {},
   "source": [
    "1. What is the problem with calling `fit_transform` on your test data with `CountVectorizer`? \n",
    "2. If you could only access one of `predict` or `predict_proba`, which one would you choose? Briefly explain.\n",
    "3. What are two advantages of `RandomizedSearchCV` over `GridSearchCV`?"
   ]
  },
  {
   "cell_type": "markdown",
   "metadata": {},
   "source": [
    "<div class=\"alert alert-warning\">\n",
    "\n",
    "Solution_4\n",
    "    \n",
    "</div>\n",
    "\n",
    "_Points:_ 6"
   ]
  },
  {
   "cell_type": "markdown",
   "metadata": {},
   "source": [
    "_Type your answer here, replacing this text._"
   ]
  },
  {
   "cell_type": "markdown",
   "metadata": {},
   "source": [
    "<!-- END QUESTION -->\n",
    "\n",
    "<br><br><br><br>"
   ]
  },
  {
   "cell_type": "markdown",
   "metadata": {},
   "source": [
    "## Submission instructions \n",
    "\n",
    "**PLEASE READ:** When you are ready to submit your assignment do the following:\n",
    "\n",
    "1. Run all cells in your notebook to make sure there are no errors by doing `Kernel -> Restart Kernel and Clear All Outputs` and then `Run -> Run All Cells`. \n",
    "2. Notebooks with cell execution numbers out of order or not starting from “1” will have marks deducted. Notebooks without the output displayed may not be graded at all (because we need to see the output in order to grade your work).\n",
    "3. Upload the assignment using Gradescope's drag and drop tool. Check out this [Gradescope Student Guide](https://lthub.ubc.ca/guides/gradescope-student-guide/) if you need help with Gradescope submission. "
   ]
  },
  {
   "cell_type": "markdown",
   "metadata": {},
   "source": [
    "Congratulations on finishing the homework! \n",
    "\n",
    "![](img/eva-well-done.png)\n",
    "\n"
   ]
  },
  {
   "cell_type": "code",
   "execution_count": null,
   "metadata": {},
   "outputs": [],
   "source": []
  }
 ],
 "metadata": {
  "celltoolbar": "Create Assignment",
  "kernelspec": {
   "display_name": "Python [conda env:cpsc330]",
   "language": "python",
   "name": "conda-env-cpsc330-py"
  },
  "language_info": {
   "codemirror_mode": {
    "name": "ipython",
    "version": 3
   },
   "file_extension": ".py",
   "mimetype": "text/x-python",
   "name": "python",
   "nbconvert_exporter": "python",
   "pygments_lexer": "ipython3",
   "version": "3.10.11"
  },
  "otter": {
   "OK_FORMAT": true,
   "tests": {
    "q1": {
     "name": "q1",
     "points": 10,
     "suites": [
      {
       "cases": [
        {
         "code": ">>> \n>>> \n>>> def test_it(MyDummyClassifier):\n...     import matplotlib.pyplot as plt\n...     import numpy as np\n...     import pandas as pd\n...     from sklearn.dummy import DummyClassifier\n...     n_train = 101\n...     n_valid = 21\n...     d = 5\n...     for _ in range(100):\n...         X_train_dummy = np.random.randn(n_train, d) \n...         X_valid_dummy = np.random.randn(n_valid, d)\n...         y_train_dummy = np.random.randint(2, size=n_train)\n...         y_valid_dummy = np.random.randint(2, size=n_valid)\n...         my_dc = MyDummyClassifier()\n...         sk_dc = DummyClassifier(strategy=\"prior\")\n...         _ = my_dc.fit(X_train_dummy, y_train_dummy)\n...         _ = sk_dc.fit(X_train_dummy, y_train_dummy)\n...         assert np.array_equal(my_dc.predict(X_train_dummy), sk_dc.predict(X_train_dummy)), \"the prediction score is wrong on a random training set\"\n...         assert np.array_equal(my_dc.predict(X_valid_dummy), sk_dc.predict(X_valid_dummy)), \"the prediction score is wrong a random validation set\"\n>>> \n>>> test_it(MyDummyClassifier)\n",
         "hidden": false,
         "locked": false,
         "success_message": "Good job!"
        },
        {
         "code": ">>> \n>>> \n>>> def test_it(MyDummyClassifier):\n...     import matplotlib.pyplot as plt\n...     import numpy as np\n...     import pandas as pd\n...     from sklearn.dummy import DummyClassifier\n...     n_train = 101\n...     n_valid = 21\n...     d = 5\n...     for _ in range(100):\n...         X_train_dummy = np.random.randn(n_train, d) \n...         X_valid_dummy = np.random.randn(n_valid, d)\n...         y_train_dummy = np.random.randint(2, size=n_train)\n...         y_valid_dummy = np.random.randint(2, size=n_valid)\n...         my_dc = MyDummyClassifier()\n...         sk_dc = DummyClassifier(strategy=\"prior\")\n...         _ = my_dc.fit(X_train_dummy, y_train_dummy)\n...         _ = sk_dc.fit(X_train_dummy, y_train_dummy)\n...         assert np.allclose(my_dc.predict_proba(X_train_dummy), sk_dc.predict_proba(X_train_dummy)), \"predict_proba is wrong on a random training set\"\n...         assert np.allclose(my_dc.predict_proba(X_valid_dummy), sk_dc.predict_proba(X_valid_dummy)), \"predict_proba is wrong on a random validation set\"\n>>> \n>>> test_it(MyDummyClassifier)\n",
         "hidden": false,
         "locked": false,
         "success_message": "Good job!"
        },
        {
         "code": ">>> \n>>> \n>>> def test_it(MyDummyClassifier):\n...     import matplotlib.pyplot as plt\n...     import numpy as np\n...     import pandas as pd\n...     from sklearn.dummy import DummyClassifier\n...     n_train = 101\n...     n_valid = 21\n...     d = 5\n...     for _ in range(100):\n...         X_train_dummy = np.random.randn(n_train, d) \n...         X_valid_dummy = np.random.randn(n_valid, d)\n...         y_train_dummy = np.random.randint(2, size=n_train)\n...         y_valid_dummy = np.random.randint(2, size=n_valid)\n...         my_dc = MyDummyClassifier()\n...         sk_dc = DummyClassifier(strategy=\"prior\")\n...         _ = my_dc.fit(X_train_dummy, y_train_dummy)\n...         _ = sk_dc.fit(X_train_dummy, y_train_dummy)\n...         assert np.isclose(my_dc.score(X_train_dummy, y_train_dummy), sk_dc.score(X_train_dummy, y_train_dummy)), \"the score is wrong on a random training set\"\n...         assert np.isclose(my_dc.score(X_valid_dummy, y_valid_dummy), sk_dc.score(X_valid_dummy, y_valid_dummy)), \"the score is wrong on a random validation set\"\n>>> \n>>> test_it(MyDummyClassifier)\n",
         "hidden": false,
         "locked": false,
         "success_message": "Good job!"
        }
       ],
       "scored": true,
       "setup": "",
       "teardown": "",
       "type": "doctest"
      }
     ]
    },
    "q2.2": {
     "name": "q2.2",
     "points": 2,
     "suites": [
      {
       "cases": [
        {
         "code": ">>> assert not dummy_cv_score is None, 'Are you using the provided variable?'\n>>> assert sha1(str(np.round(dummy_cv_score, 3)).encode('utf-8')).hexdigest() == '838befe9ffa0a0d530805ba36c2e4890d4148ba1', \"Your mean CV score doesn't look correct.\" \n",
         "hidden": false,
         "locked": false
        }
       ],
       "scored": true,
       "setup": "",
       "teardown": "",
       "type": "doctest"
      }
     ]
    },
    "q2.4": {
     "name": "q2.4",
     "points": 4,
     "suites": [
      {
       "cases": [
        {
         "code": ">>> assert not tweet is None, \"Are you using the correct variable to store the tweet?\"\n>>> assert not prob is None, \"Are you using the correct variable to store the probability?\"\n>>> assert sha1(str(np.round(prob, 4)).encode('utf-8')).hexdigest() == 'e8dc057d3346e56aed7cf252185dbe1fa6454411', \"Incorrect probability.\"\n>>> assert sha1(str(tweet).encode('utf8')).hexdigest() == 'fe39d5cbae2b335b4fde5486a8df189e41392043', \"Incorrect tweet text.\"\n",
         "hidden": false,
         "locked": false
        }
       ],
       "scored": true,
       "setup": "",
       "teardown": "",
       "type": "doctest"
      }
     ]
    },
    "q2.5": {
     "name": "q2.5",
     "points": 4,
     "suites": [
      {
       "cases": [
        {
         "code": ">>> assert not top_5_words is None, \"Are you using the correct variable?\"\n>>> assert not bottom_5_words is None, \"Are you using the correct variable?\"\n>>> assert len(top_5_words) == 5, \"Are you getting the top 5 words?\"\n>>> assert len(bottom_5_words) == 5, \"Are you getting the bottom 5 words?\"\n>>> assert sha1(\"\".join(sorted(top_5_words)).encode('utf-8')).hexdigest() == '439a61ad61c34c9069de01e2daa3a5bee63ee273', 'incorrect top 5 words'\n>>> assert sha1(\"\".join(sorted(bottom_5_words)).encode('utf-8')).hexdigest() == '5e2af1c788307cca183334510cf6bbee0208cab2', 'incorrect bottom 5 words'\n",
         "hidden": false,
         "locked": false
        }
       ],
       "scored": true,
       "setup": "",
       "teardown": "",
       "type": "doctest"
      }
     ]
    },
    "q2.6": {
     "name": "q2.6",
     "points": 8,
     "suites": [
      {
       "cases": [
        {
         "code": ">>> assert not fold_score is None, \"Are you using the correct variable?\"\n>>> assert sha1(str(np.round(fold_score, 4)).encode('utf8')).hexdigest() == 'd267e2ea9b801d9f7ac454714a7fe6320075c255', \"The fold_score doesn't look right.\"\n",
         "hidden": false,
         "locked": false
        }
       ],
       "scored": true,
       "setup": "",
       "teardown": "",
       "type": "doctest"
      }
     ]
    },
    "q3.3": {
     "name": "q3.3",
     "points": [
      5,
      1,
      1,
      1
     ],
     "suites": [
      {
       "cases": [
        {
         "code": ">>> assert not best_max_features is None, \"Are you using the correct variable?\"\n>>> assert not best_C is None, \"Are you using the correct variable?\"\n>>> assert type(grid_search.get_params()['estimator']) == Pipeline, \"Are you passing a pipeline to the GridSearch?\"\n>>> assert sha1(str(grid_search.get_params()['param_grid']['countvectorizer__max_features']).encode('utf-8')).hexdigest() == 'a685d9f6a6425aa50a8a264bc5c467e7e5dbe781', \"Are you using the max_features values from 3.1?\"\n>>> assert sha1(str(np.around(grid_search.get_params()['param_grid']['logisticregression__C'], 4)).encode('utf-8')).hexdigest() == 'd235bbfc65b1d312a1aaa7a27eae4c110d5b1d9b', \"Are you using the C values from 3.2?\" \n",
         "hidden": false,
         "locked": false
        },
        {
         "code": ">>> assert sha1(str(best_max_features).encode('utf-8')).hexdigest() == '8a12a315082a345f1a9d3ad14b214cd36d310cf8', \"Best max feature doesn't seem correct.\"\n",
         "hidden": false,
         "locked": false
        },
        {
         "code": ">>> assert sha1(str(np.round(best_C, 4)).encode('utf-8')).hexdigest() == 'b1dfb61e10561718d8bfe529db2fe5827d62f164', \"Best C doesn't seem correct.\"\n",
         "hidden": false,
         "locked": false
        },
        {
         "code": ">>> assert sha1(str(np.round(best_score, 4)).encode('utf-8')).hexdigest() == '567b99788b50aef4a1ebe4338c49910c4b5363fc', \"Best score doesn't seem correct.\"\n",
         "hidden": false,
         "locked": false
        }
       ],
       "scored": true,
       "setup": "",
       "teardown": "",
       "type": "doctest"
      }
     ]
    },
    "q3.5": {
     "name": "q3.5",
     "points": 2,
     "suites": [
      {
       "cases": [
        {
         "code": ">>> assert not test_score is None, \"Are you storing the score in the provided variable?\"\n>>> assert sha1(str(np.round(test_score, 4)).encode('utf-8')).hexdigest() == 'dad0d8c6709453d08f527227df265bb497d5067e', \"The test score doesn't look correct.\"\n",
         "hidden": false,
         "locked": false
        }
       ],
       "scored": true,
       "setup": "",
       "teardown": "",
       "type": "doctest"
      }
     ]
    }
   }
  }
 },
 "nbformat": 4,
 "nbformat_minor": 4
}
